{
 "cells": [
  {
   "cell_type": "code",
   "execution_count": 1,
   "id": "efb81a1f",
   "metadata": {},
   "outputs": [
    {
     "name": "stdout",
     "output_type": "stream",
     "text": [
      "Note: you may need to restart the kernel to use updated packages.\n"
     ]
    }
   ],
   "source": [
    "pip install -r requirements-inv.txt"
   ]
  },
  {
   "cell_type": "code",
   "execution_count": 10,
   "id": "90a1f225",
   "metadata": {},
   "outputs": [],
   "source": [
    "import kaggle\n",
    "import pandas as pd\n",
    "import numpy as np"
   ]
  },
  {
   "cell_type": "code",
   "execution_count": 7,
   "id": "03a7cbd7",
   "metadata": {},
   "outputs": [
    {
     "name": "stdout",
     "output_type": "stream",
     "text": [
      "Dataset URL: https://www.kaggle.com/datasets/mikhail1681/walmart-sales\n",
      "   Store        Date  Weekly_Sales  Holiday_Flag  Temperature  Fuel_Price  \\\n",
      "0      1  05-02-2010    1643690.90             0        42.31       2.572   \n",
      "1      1  12-02-2010    1641957.44             1        38.51       2.548   \n",
      "2      1  19-02-2010    1611968.17             0        39.93       2.514   \n",
      "3      1  26-02-2010    1409727.59             0        46.63       2.561   \n",
      "4      1  05-03-2010    1554806.68             0        46.50       2.625   \n",
      "\n",
      "          CPI  Unemployment  \n",
      "0  211.096358         8.106  \n",
      "1  211.242170         8.106  \n",
      "2  211.289143         8.106  \n",
      "3  211.319643         8.106  \n",
      "4  211.350143         8.106  \n",
      "Store             int64\n",
      "Date             object\n",
      "Weekly_Sales    float64\n",
      "Holiday_Flag      int64\n",
      "Temperature     float64\n",
      "Fuel_Price      float64\n",
      "CPI             float64\n",
      "Unemployment    float64\n",
      "dtype: object\n"
     ]
    }
   ],
   "source": [
    "# Authenticate using the API token\n",
    "kaggle.api.authenticate()\n",
    "\n",
    "# Download and unzip the dataset\n",
    "kaggle.api.dataset_download_files('mikhail1681/walmart-sales', path='/Users/joshuahellerman/Desktop/walmart-data', unzip=True)\n",
    "\n",
    "# Load the dataset\n",
    "df = pd.read_csv('/Users/joshuahellerman/Desktop/walmart-data/Walmart_sales.csv')\n",
    "\n",
    "print(df.head())\n",
    "\n",
    "print(df.dtypes)"
   ]
  },
  {
   "cell_type": "code",
   "execution_count": 8,
   "id": "ccd7d410",
   "metadata": {},
   "outputs": [
    {
     "name": "stdout",
     "output_type": "stream",
     "text": [
      "datetime64[ns]\n"
     ]
    }
   ],
   "source": [
    "df['Date'] = pd.to_datetime(df['Date'], format='%d-%m-%Y')\n",
    "\n",
    "print(df['Date'].dtype)"
   ]
  },
  {
   "cell_type": "code",
   "execution_count": 11,
   "id": "ed3a07ec",
   "metadata": {},
   "outputs": [
    {
     "name": "stdout",
     "output_type": "stream",
     "text": [
      "Total missing values: 0\n",
      "Number of duplicates: 0\n",
      "Total infinite values: 0\n"
     ]
    }
   ],
   "source": [
    "total_missing_values = df.isnull().sum().sum()\n",
    "print(\"Total missing values:\", total_missing_values)\n",
    "\n",
    "# Check for duplicates across all columns\n",
    "duplicates = df.duplicated()\n",
    "\n",
    "# Count the number of duplicates\n",
    "num_duplicates = duplicates.sum()\n",
    "print(\"Number of duplicates:\", num_duplicates)\n",
    "\n",
    "# Print rows with duplicates\n",
    "if num_duplicates > 0:\n",
    "    print(\"Duplicate rows:\")\n",
    "    print(df[duplicates])\n",
    "\n",
    "# Check for total infinite values in numeric columns\n",
    "numeric_cols = df.select_dtypes(include=[np.number])\n",
    "total_infinite_values = numeric_cols.applymap(np.isinf).sum().sum()\n",
    "print(\"Total infinite values:\", total_infinite_values)"
   ]
  },
  {
   "cell_type": "code",
   "execution_count": 13,
   "id": "58a03179",
   "metadata": {},
   "outputs": [],
   "source": [
    "# Save the DataFrame as a CSV file\n",
    "df.to_csv('df.csv', index=False)  # index=False to avoid writing row numbers to the file"
   ]
  }
 ],
 "metadata": {
  "kernelspec": {
   "display_name": "Python 3 (ipykernel)",
   "language": "python",
   "name": "python3"
  },
  "language_info": {
   "codemirror_mode": {
    "name": "ipython",
    "version": 3
   },
   "file_extension": ".py",
   "mimetype": "text/x-python",
   "name": "python",
   "nbconvert_exporter": "python",
   "pygments_lexer": "ipython3",
   "version": "3.10.9"
  }
 },
 "nbformat": 4,
 "nbformat_minor": 5
}
